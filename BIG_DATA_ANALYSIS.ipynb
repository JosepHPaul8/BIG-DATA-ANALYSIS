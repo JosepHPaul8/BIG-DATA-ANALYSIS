{
 "cells": [
  {
   "cell_type": "code",
   "execution_count": 1,
   "id": "47933327-0de0-482c-aed5-9a920e4237ed",
   "metadata": {},
   "outputs": [],
   "source": [
    "from pyspark.sql import SparkSession\n",
    "from pyspark.sql.functions import col, count, avg, max, min"
   ]
  },
  {
   "cell_type": "code",
   "execution_count": 2,
   "id": "3c25801b-3ae6-43e1-aaa3-945d45aad957",
   "metadata": {},
   "outputs": [],
   "source": [
    "# Initialize Spark session\n",
    "spark = SparkSession.builder.appName(\"BigData_Car_Analysis\").getOrCreate()"
   ]
  },
  {
   "cell_type": "code",
   "execution_count": 3,
   "id": "21940434-28a0-49c3-96a1-abb1676d7372",
   "metadata": {},
   "outputs": [],
   "source": [
    "# Load dataset\n",
    "file_path = \"car_dataset_india.csv\"  \n",
    "df = spark.read.csv(file_path, header=True, inferSchema=True)"
   ]
  },
  {
   "cell_type": "code",
   "execution_count": 4,
   "id": "a70161c8-cbb2-41bd-a5f1-f391a9c08449",
   "metadata": {},
   "outputs": [
    {
     "name": "stdout",
     "output_type": "stream",
     "text": [
      "root\n",
      " |-- Car_ID: integer (nullable = true)\n",
      " |-- Brand: string (nullable = true)\n",
      " |-- Model: string (nullable = true)\n",
      " |-- Year: integer (nullable = true)\n",
      " |-- Fuel_Type: string (nullable = true)\n",
      " |-- Transmission: string (nullable = true)\n",
      " |-- Price: double (nullable = true)\n",
      " |-- Mileage: double (nullable = true)\n",
      " |-- Engine_CC: integer (nullable = true)\n",
      " |-- Seating_Capacity: integer (nullable = true)\n",
      " |-- Service_Cost: double (nullable = true)\n",
      "\n",
      "+------+-------------+------+----+---------+------------+---------+-------+---------+----------------+------------+\n",
      "|Car_ID|        Brand| Model|Year|Fuel_Type|Transmission|    Price|Mileage|Engine_CC|Seating_Capacity|Service_Cost|\n",
      "+------+-------------+------+----+---------+------------+---------+-------+---------+----------------+------------+\n",
      "|     1|       Toyota|Innova|2024|      CNG|      Manual|2020000.0|   27.3|      800|               4|     24100.0|\n",
      "|     2|          Kia|   EV6|2023|   Diesel|      Manual|1770000.0|   16.4|     2500|               7|     18800.0|\n",
      "|     3|Maruti Suzuki| Dzire|2016|   Petrol|      Manual|3430000.0|   17.6|     2000|               6|     24700.0|\n",
      "|     4|        Honda| Amaze|2019|   Petrol|      Manual|1610000.0|   19.2|     2500|               6|     23300.0|\n",
      "|     5|        Honda|  City|2015| Electric|      Manual|1840000.0|   15.8|     1000|               5|      5800.0|\n",
      "+------+-------------+------+----+---------+------------+---------+-------+---------+----------------+------------+\n",
      "only showing top 5 rows\n",
      "\n"
     ]
    }
   ],
   "source": [
    "# Show schema and first few rows\n",
    "df.printSchema()\n",
    "df.show(5)"
   ]
  },
  {
   "cell_type": "code",
   "execution_count": 5,
   "id": "91b3158c-3a41-4f73-b792-61e070b82e3f",
   "metadata": {},
   "outputs": [
    {
     "name": "stdout",
     "output_type": "stream",
     "text": [
      "Missing Values:\n",
      "+------+-----+-----+-----+---------+------------+-----+-------+---------+----------------+------------+\n",
      "|Car_ID|Brand|Model| Year|Fuel_Type|Transmission|Price|Mileage|Engine_CC|Seating_Capacity|Service_Cost|\n",
      "+------+-----+-----+-----+---------+------------+-----+-------+---------+----------------+------------+\n",
      "| 10000|10000|10000|10000|    10000|       10000|10000|  10000|    10000|           10000|       10000|\n",
      "+------+-----+-----+-----+---------+------------+-----+-------+---------+----------------+------------+\n",
      "\n"
     ]
    }
   ],
   "source": [
    "# Check for missing values\n",
    "print(\"Missing Values:\")\n",
    "df.select([count(col(c)).alias(c) for c in df.columns]).show()"
   ]
  },
  {
   "cell_type": "code",
   "execution_count": 6,
   "id": "51b3604b-abf7-4d21-aece-e38099839239",
   "metadata": {},
   "outputs": [],
   "source": [
    "# Drop rows with missing values\n",
    "df = df.dropna()"
   ]
  },
  {
   "cell_type": "code",
   "execution_count": 7,
   "id": "8a0900ad-7a19-4f05-b02f-be529c09f290",
   "metadata": {},
   "outputs": [
    {
     "name": "stdout",
     "output_type": "stream",
     "text": [
      "Basic Statistics:\n",
      "+-------+------------------+----------+------+-----------------+---------+------------+-----------------+-----------------+-----------------+------------------+-----------------+\n",
      "|summary|            Car_ID|     Brand| Model|             Year|Fuel_Type|Transmission|            Price|          Mileage|        Engine_CC|  Seating_Capacity|     Service_Cost|\n",
      "+-------+------------------+----------+------+-----------------+---------+------------+-----------------+-----------------+-----------------+------------------+-----------------+\n",
      "|  count|             10000|     10000| 10000|            10000|    10000|       10000|            10000|            10000|            10000|             10000|            10000|\n",
      "|   mean|            5000.5|      NULL|  NULL|        2019.5438|     NULL|        NULL|        1946064.0|19.96730000000002|          1542.07|            5.5154|         14969.13|\n",
      "| stddev|2886.8956799071675|      NULL|  NULL|2.877552708632654|     NULL|        NULL|883794.5107193865|5.778582863643233|557.4873938659345|1.1215563422596693|5777.753740592331|\n",
      "|    min|                 1|     Honda|Altroz|             2015|      CNG|   Automatic|         400000.0|             10.0|              800|                 4|           5000.0|\n",
      "|    max|             10000|Volkswagen|   i20|             2024|   Petrol|      Manual|        3500000.0|             30.0|             2500|                 7|          25000.0|\n",
      "+-------+------------------+----------+------+-----------------+---------+------------+-----------------+-----------------+-----------------+------------------+-----------------+\n",
      "\n"
     ]
    }
   ],
   "source": [
    "# Exploratory Data Analysis (EDA)\n",
    "print(\"Basic Statistics:\")\n",
    "df.describe().show()"
   ]
  },
  {
   "cell_type": "code",
   "execution_count": 8,
   "id": "693b0403-7751-481f-93db-51e66649b8b0",
   "metadata": {},
   "outputs": [
    {
     "name": "stdout",
     "output_type": "stream",
     "text": [
      "+---------+------------------+\n",
      "|Fuel_Type|         Avg_Price|\n",
      "+---------+------------------+\n",
      "|   Diesel| 1945530.794165316|\n",
      "|      CNG|1934733.3848531684|\n",
      "| Electric|1951938.0460683082|\n",
      "|   Petrol|1952596.8672712285|\n",
      "+---------+------------------+\n",
      "\n"
     ]
    }
   ],
   "source": [
    "# Aggregation: Average Price by Fuel Type\n",
    "fuel_price_avg = df.groupBy(\"Fuel_Type\").agg(avg(\"Price\").alias(\"Avg_Price\"))\n",
    "fuel_price_avg.show()"
   ]
  },
  {
   "cell_type": "code",
   "execution_count": 9,
   "id": "59c9e2a2-b599-42a7-aa78-950ae86eadb8",
   "metadata": {},
   "outputs": [
    {
     "name": "stdout",
     "output_type": "stream",
     "text": [
      "+-------------+---------+---------+\n",
      "|        Brand|Max_Price|Min_Price|\n",
      "+-------------+---------+---------+\n",
      "|   Volkswagen|3500000.0| 400000.0|\n",
      "|          Kia|3500000.0| 400000.0|\n",
      "|      Hyundai|3500000.0| 400000.0|\n",
      "|        Honda|3490000.0| 400000.0|\n",
      "|  Tata Motors|3490000.0| 400000.0|\n",
      "|      Renault|3500000.0| 410000.0|\n",
      "|     Mahindra|3490000.0| 410000.0|\n",
      "|Maruti Suzuki|3500000.0| 400000.0|\n",
      "|        Skoda|3500000.0| 400000.0|\n",
      "|       Toyota|3500000.0| 400000.0|\n",
      "+-------------+---------+---------+\n",
      "\n"
     ]
    }
   ],
   "source": [
    "# Aggregation: Maximum and Minimum Price by Brand\n",
    "brand_price_stats = df.groupBy(\"Brand\").agg(\n",
    "    max(\"Price\").alias(\"Max_Price\"),\n",
    "    min(\"Price\").alias(\"Min_Price\")\n",
    ")\n",
    "brand_price_stats.show()"
   ]
  },
  {
   "cell_type": "code",
   "execution_count": 10,
   "id": "b39a8603-fc42-4e76-af4d-9b75e6c1f593",
   "metadata": {},
   "outputs": [
    {
     "name": "stdout",
     "output_type": "stream",
     "text": [
      "+------+-------------+------+----+---------+------------+---------+-------+---------+----------------+------------+\n",
      "|Car_ID|        Brand| Model|Year|Fuel_Type|Transmission|    Price|Mileage|Engine_CC|Seating_Capacity|Service_Cost|\n",
      "+------+-------------+------+----+---------+------------+---------+-------+---------+----------------+------------+\n",
      "|  1153|      Hyundai| Venue|2015|      CNG|      Manual|3500000.0|   14.3|     1200|               5|     13800.0|\n",
      "|  4044|      Renault|  Kwid|2022|   Petrol|      Manual|3500000.0|   11.9|     1200|               4|     19900.0|\n",
      "|  2594|      Renault| Lodgy|2020|      CNG|   Automatic|3500000.0|   27.2|     1500|               6|      8600.0|\n",
      "|  3157|        Skoda| Rapid|2022|      CNG|   Automatic|3500000.0|   13.9|     1500|               4|     19500.0|\n",
      "|   901|Maruti Suzuki|Ertiga|2023| Electric|   Automatic|3500000.0|   13.0|     1200|               5|     11500.0|\n",
      "+------+-------------+------+----+---------+------------+---------+-------+---------+----------------+------------+\n",
      "\n"
     ]
    }
   ],
   "source": [
    "# Top 5 Expensive Cars\n",
    "top_expensive = df.orderBy(col(\"Price\").desc()).limit(5)\n",
    "top_expensive.show()"
   ]
  },
  {
   "cell_type": "code",
   "execution_count": 11,
   "id": "41a56688-5a70-49e1-b496-ef81e3550c0b",
   "metadata": {},
   "outputs": [],
   "source": [
    "# Stop Spark session\n",
    "spark.stop()"
   ]
  },
  {
   "cell_type": "code",
   "execution_count": null,
   "id": "3fd38b5a-19d3-406e-8c00-b4b6a41d2d0c",
   "metadata": {},
   "outputs": [],
   "source": []
  }
 ],
 "metadata": {
  "kernelspec": {
   "display_name": "Python 3 (ipykernel)",
   "language": "python",
   "name": "python3"
  },
  "language_info": {
   "codemirror_mode": {
    "name": "ipython",
    "version": 3
   },
   "file_extension": ".py",
   "mimetype": "text/x-python",
   "name": "python",
   "nbconvert_exporter": "python",
   "pygments_lexer": "ipython3",
   "version": "3.12.5"
  }
 },
 "nbformat": 4,
 "nbformat_minor": 5
}
